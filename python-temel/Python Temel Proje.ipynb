{
 "cells": [
  {
   "cell_type": "markdown",
   "id": "4b1eb959",
   "metadata": {},
   "source": [
    "1- Bir listeyi düzleştiren (flatten) fonksiyon yazın. Elemanları birden çok katmanlı listelerden ([[3],2] gibi) oluşabileceği gibi, non-scalar verilerden de oluşabilir. Örnek olarak:\n",
    "\n",
    "input: [[1,'a',['cat'],2],[[[3]],'dog'],4,5]\n",
    "\n",
    "output: [1,'a','cat',2,3,'dog',4,5]"
   ]
  },
  {
   "cell_type": "code",
   "execution_count": 19,
   "id": "62177066",
   "metadata": {},
   "outputs": [],
   "source": [
    "def flat_that(my_list):\n",
    "    \"\"\"\n",
    "    This function takes a matrix and flat it. Returns value at the same order.\n",
    "    \"\"\"\n",
    "    empty_list = []\n",
    "    for el in my_list:\n",
    "        if type(el) == list:\n",
    "            empty_list = empty_list + flat_that(el)\n",
    "        else:\n",
    "            empty_list.append(el)\n",
    "    return empty_list"
   ]
  },
  {
   "cell_type": "code",
   "execution_count": 21,
   "id": "78f4d98a",
   "metadata": {},
   "outputs": [
    {
     "data": {
      "text/plain": [
       "[1, 'a', 'cat', 2, 3, 'dog', 4, 5]"
      ]
     },
     "execution_count": 21,
     "metadata": {},
     "output_type": "execute_result"
    }
   ],
   "source": [
    "a_list = [[1,'a',['cat'],2],[[[3]],'dog'],4,5]\n",
    "\n",
    "flat_that(a_list)\n"
   ]
  },
  {
   "cell_type": "markdown",
   "id": "47d0eb9a",
   "metadata": {},
   "source": [
    "2- Verilen listenin içindeki elemanları tersine döndüren bir fonksiyon yazın. Eğer listenin içindeki elemanlar da liste içeriyorsa onların elemanlarını da tersine döndürün. Örnek olarak:\n",
    "\n",
    "input: [[1, 2], [3, 4], [5, 6, 7]]\n",
    "\n",
    "output: [[[7, 6, 5], [4, 3], [2, 1]]"
   ]
  },
  {
   "cell_type": "code",
   "execution_count": 25,
   "id": "3e43d5f1",
   "metadata": {},
   "outputs": [],
   "source": [
    "def reverse_list(my_list):\n",
    "    my_list.reverse()\n",
    "    for el in my_list:\n",
    "        if type(el) == list:\n",
    "            el.reverse()\n",
    "    \n",
    "    return my_list"
   ]
  },
  {
   "cell_type": "code",
   "execution_count": 26,
   "id": "cbdb66ea",
   "metadata": {},
   "outputs": [
    {
     "data": {
      "text/plain": [
       "[[7, 6, 5], [4, 3], [2, 1]]"
      ]
     },
     "execution_count": 26,
     "metadata": {},
     "output_type": "execute_result"
    }
   ],
   "source": [
    "another_list = [[1, 2], [3, 4], [5, 6, 7]]\n",
    "\n",
    "reverse_list(another_list)"
   ]
  },
  {
   "cell_type": "code",
   "execution_count": null,
   "id": "8d1a2a76",
   "metadata": {},
   "outputs": [],
   "source": []
  }
 ],
 "metadata": {
  "kernelspec": {
   "display_name": "Python 3 (ipykernel)",
   "language": "python",
   "name": "python3"
  },
  "language_info": {
   "codemirror_mode": {
    "name": "ipython",
    "version": 3
   },
   "file_extension": ".py",
   "mimetype": "text/x-python",
   "name": "python",
   "nbconvert_exporter": "python",
   "pygments_lexer": "ipython3",
   "version": "3.10.9"
  }
 },
 "nbformat": 4,
 "nbformat_minor": 5
}
